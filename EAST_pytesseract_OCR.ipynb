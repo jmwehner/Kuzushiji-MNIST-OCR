{
 "cells": [
  {
   "cell_type": "code",
   "execution_count": 1,
   "id": "f2016c85",
   "metadata": {},
   "outputs": [],
   "source": [
    "import cv2\n",
    "import pytesseract\n",
    "import numpy as np\n",
    "from imutils.object_detection import non_max_suppression"
   ]
  },
  {
   "cell_type": "code",
   "execution_count": 2,
   "id": "50e86769",
   "metadata": {},
   "outputs": [],
   "source": [
    "img = cv2.imread('JPNTXT04.jpg')"
   ]
  },
  {
   "cell_type": "markdown",
   "id": "eb2dce68",
   "metadata": {},
   "source": [
    "## Download the EAST model and Load It"
   ]
  },
  {
   "cell_type": "code",
   "execution_count": 3,
   "id": "d48fb1b6",
   "metadata": {},
   "outputs": [],
   "source": [
    "model = cv2.dnn.readNet('frozen_east_text_detection.pb')"
   ]
  },
  {
   "cell_type": "markdown",
   "id": "171b00e6",
   "metadata": {},
   "source": [
    "## Prepare Image"
   ]
  },
  {
   "cell_type": "code",
   "execution_count": 4,
   "id": "20273bd9",
   "metadata": {},
   "outputs": [
    {
     "name": "stdout",
     "output_type": "stream",
     "text": [
      "2592 3392\n"
     ]
    }
   ],
   "source": [
    "# use multiple of 32 to set the new img shape\n",
    "height, width, _ = img.shape\n",
    "new_height = (height//32)*32\n",
    "new_width = (width//32)*32\n",
    "print(new_height, new_width)"
   ]
  },
  {
   "cell_type": "code",
   "execution_count": 5,
   "id": "932396bc",
   "metadata": {},
   "outputs": [
    {
     "name": "stdout",
     "output_type": "stream",
     "text": [
      "1.0061728395061729 1.0017688679245282\n"
     ]
    }
   ],
   "source": [
    "# get the ratio change in width and height\n",
    "h_ratio = height/new_height\n",
    "w_ratio = width/new_width\n",
    "print(h_ratio, w_ratio)"
   ]
  },
  {
   "cell_type": "code",
   "execution_count": 6,
   "id": "4ed011f7",
   "metadata": {},
   "outputs": [],
   "source": [
    "blob = cv2.dnn.blobFromImage(img, 1, (new_width, new_height),(123.68, 116.78, 103.94), True, False)"
   ]
  },
  {
   "cell_type": "markdown",
   "id": "8d333463",
   "metadata": {},
   "source": [
    "## Forward Propagation"
   ]
  },
  {
   "cell_type": "code",
   "execution_count": 7,
   "id": "b525d952",
   "metadata": {},
   "outputs": [],
   "source": [
    "model.setInput(blob)\n",
    "(geometry, scores) = model.forward(model.getUnconnectedOutLayersNames())"
   ]
  },
  {
   "cell_type": "markdown",
   "id": "e11e5428",
   "metadata": {},
   "source": [
    "## Post-Processing"
   ]
  },
  {
   "cell_type": "code",
   "execution_count": 8,
   "id": "8e44f742",
   "metadata": {},
   "outputs": [],
   "source": [
    "rectangles = []\n",
    "confidence_score = []\n",
    "for i in range(geometry.shape[2]):\n",
    "    for j in range(0, geometry.shape[3]):\n",
    "        \n",
    "        if scores[0][0][i][j] < 0.1:\n",
    "            continue\n",
    "            \n",
    "        bottom_x = int(j*4 + geometry[0][1][i][j])\n",
    "        bottom_y = int(i*4 + geometry[0][2][i][j])\n",
    "        \n",
    "\n",
    "        top_x = int(j*4 - geometry[0][3][i][j])\n",
    "        top_y = int(i*4 - geometry[0][0][i][j])\n",
    "        \n",
    "        rectangles.append((top_x, top_y, bottom_x, bottom_y))\n",
    "        confidence_score.append(float(scores[0][0][i][j]))"
   ]
  },
  {
   "cell_type": "code",
   "execution_count": 9,
   "id": "fa3f23eb",
   "metadata": {},
   "outputs": [],
   "source": [
    "# use Non-max suppression to get the required rectangles\n",
    "fin_boxes = non_max_suppression(np.array(rectangles), probs=confidence_score, overlapThresh=0.5)"
   ]
  },
  {
   "cell_type": "markdown",
   "id": "54ee52f2",
   "metadata": {},
   "source": [
    "## Decode scores to text"
   ]
  },
  {
   "cell_type": "code",
   "execution_count": 10,
   "id": "81d4cc86",
   "metadata": {},
   "outputs": [],
   "source": [
    "pytesseract.pytesseract.tesseract_cmd = r'/usr/local/bin/tesseract'"
   ]
  },
  {
   "cell_type": "code",
   "execution_count": 11,
   "id": "cf244442",
   "metadata": {},
   "outputs": [],
   "source": [
    "## ---------------  Recognize the text using Pytesseract in each segment -----------\n",
    "img_copy = img.copy()\n",
    "for (x1, y1, x2, y2) in fin_boxes:\n",
    "\n",
    "    x1 = int(x1 * w_ratio)\n",
    "    y1 = int(y1 * h_ratio)\n",
    "    x2 = int(x2 * w_ratio)\n",
    "    y2 = int(y2 * h_ratio)\n",
    "    \n",
    "    segment = img[y1:y2+4, x1:x2+2, :]\n",
    "    \n",
    "    segment_gray = cv2.cvtColor(segment, cv2.COLOR_BGR2GRAY)\n",
    "    ret, thresh = cv2.threshold(segment_gray, 0, 255, cv2.THRESH_BINARY+cv2.THRESH_OTSU)\n",
    "\n",
    "    text = pytesseract.image_to_string(thresh, lang=\"jpn_vert+jpn\")\n",
    "\n",
    "    cv2.rectangle(img_copy, (x1, y1), (x2, y2), (0, 255, 0), 2)\n",
    "    cv2.putText(img_copy, text.strip(), (x1,y1-2), cv2.FONT_HERSHEY_COMPLEX, 0.7, (0,0,255),2)\n",
    "\n",
    "cv2.imshow(\"Text Detection\", img_copy)"
   ]
  },
  {
   "cell_type": "code",
   "execution_count": 12,
   "id": "ac9524ed",
   "metadata": {},
   "outputs": [
    {
     "name": "stdout",
     "output_type": "stream",
     "text": [
      "し\n",
      "\n",
      "いい (で\n",
      "\f",
      "\n"
     ]
    }
   ],
   "source": [
    "print(text)"
   ]
  },
  {
   "cell_type": "markdown",
   "id": "1b1f0d8d",
   "metadata": {},
   "source": [
    "## Rerun with another image"
   ]
  },
  {
   "cell_type": "code",
   "execution_count": 13,
   "id": "e98325f4",
   "metadata": {},
   "outputs": [],
   "source": [
    "img = cv2.imread('JPNTXT_02.jpg')"
   ]
  },
  {
   "cell_type": "code",
   "execution_count": 14,
   "id": "e0077295",
   "metadata": {},
   "outputs": [
    {
     "name": "stdout",
     "output_type": "stream",
     "text": [
      "352 224\n"
     ]
    }
   ],
   "source": [
    "# use multiple of 32 to set the new img shape\n",
    "height, width, _ = img.shape\n",
    "new_height = (height//32)*32\n",
    "new_width = (width//32)*32\n",
    "print(new_height, new_width)"
   ]
  },
  {
   "cell_type": "code",
   "execution_count": 15,
   "id": "dbc4f7ee",
   "metadata": {},
   "outputs": [
    {
     "name": "stdout",
     "output_type": "stream",
     "text": [
      "1.0284090909090908 1.1026785714285714\n"
     ]
    }
   ],
   "source": [
    "# get the ratio change in width and height\n",
    "h_ratio = height/new_height\n",
    "w_ratio = width/new_width\n",
    "print(h_ratio, w_ratio)"
   ]
  },
  {
   "cell_type": "code",
   "execution_count": 16,
   "id": "64892e4e",
   "metadata": {},
   "outputs": [],
   "source": [
    "blob = cv2.dnn.blobFromImage(img, 1, (new_width, new_height),(123.68, 116.78, 103.94), True, False)"
   ]
  },
  {
   "cell_type": "code",
   "execution_count": 17,
   "id": "88d6eff6",
   "metadata": {},
   "outputs": [],
   "source": [
    "model.setInput(blob)\n",
    "(geometry, scores) = model.forward(model.getUnconnectedOutLayersNames())"
   ]
  },
  {
   "cell_type": "code",
   "execution_count": 18,
   "id": "ba84f256",
   "metadata": {},
   "outputs": [],
   "source": [
    "rectangles = []\n",
    "confidence_score = []\n",
    "for i in range(geometry.shape[2]):\n",
    "    for j in range(0, geometry.shape[3]):\n",
    "        \n",
    "        if scores[0][0][i][j] < 0.1:\n",
    "            continue\n",
    "            \n",
    "        bottom_x = int(j*4 + geometry[0][1][i][j])\n",
    "        bottom_y = int(i*4 + geometry[0][2][i][j])\n",
    "        \n",
    "\n",
    "        top_x = int(j*4 - geometry[0][3][i][j])\n",
    "        top_y = int(i*4 - geometry[0][0][i][j])\n",
    "        \n",
    "        rectangles.append((top_x, top_y, bottom_x, bottom_y))\n",
    "        confidence_score.append(float(scores[0][0][i][j]))"
   ]
  },
  {
   "cell_type": "code",
   "execution_count": 19,
   "id": "4c292596",
   "metadata": {},
   "outputs": [],
   "source": [
    "fin_boxes = non_max_suppression(np.array(rectangles), probs=confidence_score, overlapThresh=0.5)"
   ]
  },
  {
   "cell_type": "code",
   "execution_count": 20,
   "id": "ce8fe170",
   "metadata": {},
   "outputs": [],
   "source": [
    "img_copy = img.copy()\n",
    "for (x1, y1, x2, y2) in fin_boxes:\n",
    "\n",
    "    x1 = int(x1 * w_ratio)\n",
    "    y1 = int(y1 * h_ratio)\n",
    "    x2 = int(x2 * w_ratio)\n",
    "    y2 = int(y2 * h_ratio)\n",
    "    \n",
    "    segment = img[y1:y2+4, x1:x2+2, :]\n",
    "    \n",
    "    segment_gray = cv2.cvtColor(segment, cv2.COLOR_BGR2GRAY)\n",
    "    ret, thresh = cv2.threshold(segment_gray, 0, 255, cv2.THRESH_BINARY+cv2.THRESH_OTSU)\n",
    "\n",
    "    text = pytesseract.image_to_string(thresh, lang=\"jpn_vert+jpn\")\n",
    "\n",
    "    cv2.rectangle(img_copy, (x1, y1), (x2, y2), (0, 255, 0), 2)\n",
    "    cv2.putText(img_copy, text.strip(), (x1,y1-2), cv2.FONT_HERSHEY_COMPLEX, 0.7, (0,0,255),2)\n",
    "\n",
    "cv2.imshow(\"Text Detection\", img_copy)"
   ]
  },
  {
   "cell_type": "code",
   "execution_count": 21,
   "id": "3b722cb1",
   "metadata": {},
   "outputs": [
    {
     "name": "stdout",
     "output_type": "stream",
     "text": [
      "[1 エー\n",
      "\f",
      "\n"
     ]
    }
   ],
   "source": [
    "print(text)"
   ]
  },
  {
   "cell_type": "code",
   "execution_count": null,
   "id": "fbc06890",
   "metadata": {},
   "outputs": [],
   "source": [
    "#cv2.waitKey(0)"
   ]
  },
  {
   "cell_type": "code",
   "execution_count": null,
   "id": "91955142",
   "metadata": {},
   "outputs": [],
   "source": []
  }
 ],
 "metadata": {
  "kernelspec": {
   "display_name": "Python 3 (ipykernel)",
   "language": "python",
   "name": "python3"
  },
  "language_info": {
   "codemirror_mode": {
    "name": "ipython",
    "version": 3
   },
   "file_extension": ".py",
   "mimetype": "text/x-python",
   "name": "python",
   "nbconvert_exporter": "python",
   "pygments_lexer": "ipython3",
   "version": "3.8.12"
  }
 },
 "nbformat": 4,
 "nbformat_minor": 5
}
