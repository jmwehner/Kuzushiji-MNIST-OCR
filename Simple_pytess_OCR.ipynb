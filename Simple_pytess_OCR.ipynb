{
 "cells": [
  {
   "cell_type": "code",
   "execution_count": 1,
   "id": "4464cf42",
   "metadata": {},
   "outputs": [],
   "source": [
    "import cv2\n",
    "import pytesseract\n",
    "import numpy as np"
   ]
  },
  {
   "cell_type": "code",
   "execution_count": 2,
   "id": "6d721d8d",
   "metadata": {},
   "outputs": [],
   "source": [
    "img = cv2.imread('JPNTXT04.jpg')"
   ]
  },
  {
   "cell_type": "code",
   "execution_count": 3,
   "id": "4166ed4c",
   "metadata": {},
   "outputs": [],
   "source": [
    "pytesseract.pytesseract.tesseract_cmd = r'/usr/local/bin/tesseract'"
   ]
  },
  {
   "cell_type": "code",
   "execution_count": 4,
   "id": "3e2478c0",
   "metadata": {},
   "outputs": [],
   "source": [
    "text = pytesseract.image_to_string(img,lang='jpn_vert+jpn') "
   ]
  },
  {
   "cell_type": "code",
   "execution_count": 5,
   "id": "27ed45bc",
   "metadata": {},
   "outputs": [
    {
     "name": "stdout",
     "output_type": "stream",
     "text": [
      "92\n",
      "\n",
      "夜 と 夜 の 旅人\n",
      "\n",
      "9 き\n",
      "\n",
      "に 聞こ えて き て いた 。 に か っ た が 、 は っ と 前 を\n",
      "\n",
      "り 札 行く 車 の 音 ざ NG な 。 る その ょ ミラ る\n",
      "\n",
      "じ て 本 を 読み で は m\n",
      "AN えさ\n",
      "PMP あん まり 驚い た の で 私 ]\n",
      "て いか た る 0\n",
      "で 之 美 ちゃ ん !・: : 半\n",
      "\n",
      "の 人 人 だ た 総論 の 声 が\n",
      "\n",
      "へ た\n",
      "くま た 。 窓 を 開け て 見 降ろ ず す と 、 雪 ま みれ の 邊 絵 が こ 放 上\n",
      "\n",
      "いと 私 は 立ち 上 が っ て 窓辺 に 行っ た\n",
      "\n",
      "を 見 上 げ て 、 笑 っ て いた 。\n",
      "人 人 の な\n",
      "\n",
      "を とる る る きき 本 は 4 和 hwR 2\n",
      "\n",
      "な 気分 だ っ た 。 彼 女 は 三 ヵ 月 ほど 前 まで この 家 に 住ん で いた の ば\n",
      "\n",
      "『 も っ と …「 び ぴっ くり させ て あげ る ど - )\n",
      "\n",
      "と 言っ て 彼女 は 足 を 指 差 し た 。 暗 が り の 中 。 人 直 絵 が 靴 を\n",
      "\n",
      "て か た か っ た の で 私 は 叫ん だ 。 そ うし で いる 旧 計っ 人\n",
      "\n",
      "た いい\n",
      "\n",
      "0\n",
      "\n",
      " \n",
      "\n",
      "「 お 入り 、 玄 関 に まわ っ て お いで 。」\n",
      "秋 が 言う と 、 叙 絵 は うな ずい て 庭 の ほう へ 歩い て 行っ た 。\n",
      "\n",
      "「 い っ た いざ どう し た の ぇ ぅ 」\n",
      "、 タ オル を 渡し て ぷ 部 屋 の 暖房 を 強く し 。 ーー ン 人 人 人\n",
      "濡れ で ミ 凍 めそ うだ に 冷た ~ ぷ いい 手 を し で いい の SS 人 8 。 9 N の\n",
      "つま Ce ちや ッ 時 る る ペッ 5 お か で WO で\n",
      "別に な ん で も な い の よ 。」.\n",
      "る し て 滞 れ た た 落下 を 騰 ぎ 、 す お っ て 素足 スト ドブ に あて た 。 誰 会 に よく な つい て いた\n",
      "次 が ドア の すき 聞か ち 入 っ て き て 彼女 に すり 寄っ た 彼 女 は 租 の 鳥 な の で 、 和 申告 し な いと\n",
      "誠人 測 で きま な いさ と に た っ て いる 人 多分 、 今 は 療 辺 で 詩 を 見 て いる うら に AE\n",
      "ォ く たれ たり . 親 に 無断 で 家 を 出る た め に 、 そ の まま 窓 か ら 出 て し まっ た の の だ ろう 彼女 の 部\n",
      "語ら 剛 の 迷人 ちと と と っ 衝 、 共 た で で いろ る 窒 と 上 28\n",
      "0 二 / 有 2NAIRA\n",
      "| を ヒ げ 飲も えま 」.\n",
      "到 こと 。 イ ッ ス 時 の\n",
      "人 人 湾 和 うら 寺 ず ぐ ぎ ペ や ァ タ 開け マナ だ ウナ た を 千 所 に 行っ > て し だ っ と\n",
      "< 2 ll. マジ 、 デ っ で S 7 に ヶ 9 0\n",
      "人 人 人 湾 っ ね 今 を 彼女 が ここ に いた こと を を ます ます 曖昧 に し\n",
      "\f",
      "\n"
     ]
    }
   ],
   "source": [
    "print(text)"
   ]
  },
  {
   "cell_type": "markdown",
   "id": "14154bcc",
   "metadata": {},
   "source": [
    "## Rerun with another image"
   ]
  },
  {
   "cell_type": "code",
   "execution_count": 6,
   "id": "5ab50c0e",
   "metadata": {},
   "outputs": [],
   "source": [
    "img2 = cv2.imread('JPNTXT_02.jpg')"
   ]
  },
  {
   "cell_type": "code",
   "execution_count": 7,
   "id": "d47d3b35",
   "metadata": {},
   "outputs": [],
   "source": [
    "text2 = pytesseract.image_to_string(img2,lang='jpn_vert+jpn') "
   ]
  },
  {
   "cell_type": "code",
   "execution_count": 8,
   "id": "de2c8310",
   "metadata": {},
   "outputs": [
    {
     "name": "stdout",
     "output_type": "stream",
     "text": [
      "スウ ェ ー デ ン 。\n",
      "\f",
      "\n"
     ]
    }
   ],
   "source": [
    "print(text2)"
   ]
  },
  {
   "cell_type": "code",
   "execution_count": null,
   "id": "2c767126",
   "metadata": {},
   "outputs": [],
   "source": []
  }
 ],
 "metadata": {
  "kernelspec": {
   "display_name": "Python 3 (ipykernel)",
   "language": "python",
   "name": "python3"
  },
  "language_info": {
   "codemirror_mode": {
    "name": "ipython",
    "version": 3
   },
   "file_extension": ".py",
   "mimetype": "text/x-python",
   "name": "python",
   "nbconvert_exporter": "python",
   "pygments_lexer": "ipython3",
   "version": "3.8.12"
  }
 },
 "nbformat": 4,
 "nbformat_minor": 5
}
