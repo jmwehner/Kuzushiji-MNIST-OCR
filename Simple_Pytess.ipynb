{
 "cells": [
  {
   "cell_type": "code",
   "execution_count": 1,
   "id": "8452bcb2",
   "metadata": {},
   "outputs": [],
   "source": [
    "import cv2\n",
    "import numpy as np\n",
    "import os\n",
    "import pytesseract"
   ]
  },
  {
   "cell_type": "code",
   "execution_count": null,
   "id": "a852d498",
   "metadata": {},
   "outputs": [],
   "source": []
  },
  {
   "cell_type": "code",
   "execution_count": null,
   "id": "5359ee1a",
   "metadata": {},
   "outputs": [],
   "source": [
    "dir_path = 'Dataset'\n",
    "result=[]\n",
    "for filename in os.listdir(dir_path):\n",
    "    if filename.endswith('.jpg'):\n",
    "        file_path = os.path.join(dir_path, filename)\n",
    "\n",
    "        # read the image using OpenCV\n",
    "        img = cv2.imread(file_path)\n",
    "        \n",
    "        text = pytesseract.image_to_string(img,lang='jpn_vert+jpn')\n",
    "        result.append(text)\n",
    "        \n",
    "    else:\n",
    "        return None\n",
    "    \n",
    "print(result)"
   ]
  },
  {
   "cell_type": "code",
   "execution_count": null,
   "id": "ef6a59ae",
   "metadata": {},
   "outputs": [],
   "source": [
    "with open('output_pytess.txt', 'w') as file:\n",
    "    file.write(result)"
   ]
  }
 ],
 "metadata": {
  "kernelspec": {
   "display_name": "Python 3 (ipykernel)",
   "language": "python",
   "name": "python3"
  },
  "language_info": {
   "codemirror_mode": {
    "name": "ipython",
    "version": 3
   },
   "file_extension": ".py",
   "mimetype": "text/x-python",
   "name": "python",
   "nbconvert_exporter": "python",
   "pygments_lexer": "ipython3",
   "version": "3.8.12"
  }
 },
 "nbformat": 4,
 "nbformat_minor": 5
}
